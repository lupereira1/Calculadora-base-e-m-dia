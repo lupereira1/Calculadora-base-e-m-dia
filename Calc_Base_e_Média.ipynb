{
  "nbformat": 4,
  "nbformat_minor": 0,
  "metadata": {
    "colab": {
      "provenance": [],
      "authorship_tag": "ABX9TyNvvQuKoZVEUrkXzIIbYbXa",
      "include_colab_link": true
    },
    "kernelspec": {
      "name": "python3",
      "display_name": "Python 3"
    },
    "language_info": {
      "name": "python"
    }
  },
  "cells": [
    {
      "cell_type": "markdown",
      "metadata": {
        "id": "view-in-github",
        "colab_type": "text"
      },
      "source": [
        "<a href=\"https://colab.research.google.com/github/lupereira1/Calculadora-base-e-m-dia/blob/main/Calc_Base_e_M%C3%A9dia.ipynb\" target=\"_parent\"><img src=\"https://colab.research.google.com/assets/colab-badge.svg\" alt=\"Open In Colab\"/></a>"
      ]
    },
    {
      "cell_type": "code",
      "source": [
        "h = float(input(\"coloque o valor da altura \"))\n",
        "b= float(input(\"coloque o valor da base \"))\n",
        "\n",
        "area = b*h/2\n",
        "print(\"a area do seu triangulo é \", area)"
      ],
      "metadata": {
        "colab": {
          "base_uri": "https://localhost:8080/"
        },
        "id": "-abjFgj-t_G1",
        "outputId": "4fd55da2-6fb4-4025-b1a8-74c787112cf1"
      },
      "execution_count": null,
      "outputs": [
        {
          "output_type": "stream",
          "name": "stdout",
          "text": [
            "coloque o valor da altura 2\n",
            "coloque o valor da base 4\n",
            "a area do seu triangulo é  4.0\n"
          ]
        }
      ]
    },
    {
      "cell_type": "code",
      "source": [
        "n1 = int(input(\"coloque o primeiro valor \"))\n",
        "n2 = int(input(\"coloque o segundo valor \"))\n",
        "n3 = int(input(\"coloque o terceiro valor \"))\n",
        "n4 = int(input(\"coloque o quarto valor \"))\n",
        "n5 = int(input(\"coloque o quinto valor \"))\n",
        "\n",
        "media = (n1+n2+n3+n4+n5)/5\n",
        "print(\"a média é\", media)"
      ],
      "metadata": {
        "id": "8Dr24peGvS8j"
      },
      "execution_count": null,
      "outputs": []
    }
  ]
}